{
  "nbformat": 4,
  "nbformat_minor": 0,
  "metadata": {
    "colab": {
      "provenance": [],
      "authorship_tag": "ABX9TyMMGSNjKcleglHG24YLytbY",
      "include_colab_link": true
    },
    "kernelspec": {
      "name": "python3",
      "display_name": "Python 3"
    },
    "language_info": {
      "name": "python"
    }
  },
  "cells": [
    {
      "cell_type": "markdown",
      "metadata": {
        "id": "view-in-github",
        "colab_type": "text"
      },
      "source": [
        "<a href=\"https://colab.research.google.com/github/Vysh2205/ChatBot/blob/main/ChatBot_using_NLP.ipynb\" target=\"_parent\"><img src=\"https://colab.research.google.com/assets/colab-badge.svg\" alt=\"Open In Colab\"/></a>"
      ]
    },
    {
      "cell_type": "code",
      "execution_count": null,
      "metadata": {
        "colab": {
          "base_uri": "https://localhost:8080/"
        },
        "id": "-46AWk90GjL7",
        "outputId": "df279d15-1e32-4598-8af4-0127a1edd053"
      },
      "outputs": [
        {
          "output_type": "stream",
          "name": "stdout",
          "text": [
            "My purpose is to assist you\n",
            "Hey\n",
            "I am a chatbot\n",
            "You can check your credit score for free on several websites such as Credit Karma and Credit Sesame.\n",
            "To make a budget, start by tracking your income and expenses. Then, allocate your income towards essential expenses like rent, food, and bills. Next, allocate some of your income towards savings and debt repayment. Finally, allocate the remainder of your income towards discretionary expenses like entertainment and hobbies.\n",
            "You can check the weather on a weather app or website.\n"
          ]
        },
        {
          "output_type": "stream",
          "name": "stderr",
          "text": [
            "[nltk_data] Downloading package punkt to /root/nltk_data...\n",
            "[nltk_data]   Package punkt is already up-to-date!\n"
          ]
        }
      ],
      "source": [
        "import nltk\n",
        "import random\n",
        "import os\n",
        "import ssl\n",
        "from sklearn.feature_extraction.text import TfidfVectorizer\n",
        "from sklearn.linear_model import LogisticRegression\n",
        "\n",
        "# Fix SSL issue for NLTK downloads\n",
        "ssl._create_default_https_context = ssl._create_unverified_context\n",
        "\n",
        "# Set up NLTK data path\n",
        "nltk.data.path.append(os.path.abspath('nltk_data'))\n",
        "nltk.download('punkt')\n",
        "\n",
        "# Define intents\n",
        "intents = [\n",
        "    {\n",
        "        'tag': 'greeting',\n",
        "        'patterns': ['Hi', 'Hello', 'Hey', 'What\\'s up', 'How are you'],\n",
        "        'responses': ['Hi there', 'Hello', 'Hey', 'Nothing much', 'I\\'m fine, thank you']\n",
        "    },\n",
        "    {\n",
        "        'tag': 'goodbye',\n",
        "        'patterns': ['Bye', 'See you later', 'Goodbye', 'Take care'],\n",
        "        'responses': ['Goodbye', 'See you later', 'Take care']\n",
        "    },\n",
        "    {\n",
        "        'tag': 'thanks',\n",
        "        'patterns': ['Thank you', 'Thanks a lot', 'Thanks'],\n",
        "        'responses': ['You\\'re welcome', 'No problem', 'It\\'s my pleasure']\n",
        "    },\n",
        "    {\n",
        "        'tag': 'about',\n",
        "        'patterns': [\"What can you do\", \"Who are you\", \"What are you\", \"What is your purpose\"],\n",
        "        'responses': [\"I am a chatbot\", \"My purpose is to assist you\", \"I can answer questions and provide assistance\"]\n",
        "    },\n",
        "    {\n",
        "        'tag': 'help',\n",
        "        'patterns': [\"Help\", \"I need help\", \"Can you help me\", \"What should I do?\"],\n",
        "        'responses': [\"Sure, what do you need help with?\", \"I'm here to help. What's the problem?\", \"How can I assist you?\"]\n",
        "    },\n",
        "    {\n",
        "        'tag': 'age',\n",
        "        'patterns': [\"How old are you\", \"What's your age\"],\n",
        "        'responses': [\"I don't have an age. I'm a chatbot.\", \"I was just born in the digital world.\", \"Age is just a number for me.\"]\n",
        "    },\n",
        "    {\n",
        "        \"tag\": \"weather\",\n",
        "        \"patterns\": [\"What's the weather like\", \"How's the weather today\"],\n",
        "        \"responses\": [\"I'm sorry, I cannot provide real-time weather information.\", \"You can check the weather on a weather app or website.\"]\n",
        "    },\n",
        "    {\n",
        "        \"tag\": \"budget\",\n",
        "        \"patterns\": [\"How can I make a budget\", \"What's a good budgeting strategy\", \"How do I create a budget\"],\n",
        "        \"responses\": [\n",
        "            \"To make a budget, start by tracking your income and expenses. Then, allocate your income towards essential expenses like rent, food, and bills. Next, allocate some of your income towards savings and debt repayment. Finally, allocate the remainder of your income towards discretionary expenses like entertainment and hobbies.\",\n",
        "            \"A good budgeting strategy is to use the 50/30/20 rule. This means allocating 50% of your income towards essential expenses, 30% towards discretionary expenses, and 20% towards savings and debt repayment.\",\n",
        "            \"To create a budget, start by setting financial goals for yourself. Then, track your income and expenses for a few months to get a sense of where your money is going. Next, create a budget by allocating your income towards essential expenses, savings and debt repayment, and discretionary expenses.\"\n",
        "        ]\n",
        "    },\n",
        "    {\n",
        "        \"tag\": \"credit_score\",\n",
        "        \"patterns\": [\"What is a credit score\", \"How do I check my credit score\", \"How can I improve my credit score\"],\n",
        "        \"responses\": [\n",
        "            \"A credit score is a number that represents your creditworthiness. It is based on your credit history and is used by lenders to determine whether or not to lend you money. The higher your credit score, the more likely you are to be approved for credit.\",\n",
        "            \"You can check your credit score for free on several websites such as Credit Karma and Credit Sesame.\"\n",
        "        ]\n",
        "    }\n",
        "]\n",
        "\n",
        "# Extract patterns and tags\n",
        "patterns = []\n",
        "tags = []\n",
        "\n",
        "for intent in intents:\n",
        "    for pattern in intent['patterns']:\n",
        "        patterns.append(pattern)\n",
        "        tags.append(intent['tag'])\n",
        "\n",
        "# Train model\n",
        "vectorizer = TfidfVectorizer()\n",
        "X = vectorizer.fit_transform(patterns)\n",
        "y = tags\n",
        "\n",
        "clf = LogisticRegression(random_state=0, max_iter=10000)\n",
        "clf.fit(X, y)\n",
        "\n",
        "# Chatbot function\n",
        "def chatbot(input_text):\n",
        "    input_text_vector = vectorizer.transform([input_text])  # Convert input to TF-IDF vector\n",
        "    predicted_tag = clf.predict(input_text_vector)[0]  # Predict tag\n",
        "\n",
        "    for intent in intents:\n",
        "        if intent['tag'] == predicted_tag:\n",
        "            return random.choice(intent['responses'])\n",
        "\n",
        "# Test chatbot\n",
        "user_input = \"What is your age\"\n",
        "response = chatbot(user_input)\n",
        "print(response)\n",
        "user_input1 = \"Hi how are you\"\n",
        "response1 = chatbot(user_input1)\n",
        "print(response1)\n",
        "user_input2 = \"What can you do\"\n",
        "response2 = chatbot(user_input2)\n",
        "print(response2)\n",
        "user_input3 = \"What is a credit score\"\n",
        "response3 = chatbot(user_input3)\n",
        "print(response3)\n",
        "user_input4 = \"How can I make a budget\"\n",
        "response4 = chatbot(user_input4)\n",
        "print(response4)\n",
        "user_input5 = \"What's the weather like\"\n",
        "response5 = chatbot(user_input5)\n",
        "print(response5)\n",
        "\n",
        "\n"
      ]
    },
    {
      "cell_type": "code",
      "source": [],
      "metadata": {
        "id": "VYb3SJWUIKHY"
      },
      "execution_count": null,
      "outputs": []
    }
  ]
}